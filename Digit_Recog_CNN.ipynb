{
  "nbformat": 4,
  "nbformat_minor": 0,
  "metadata": {
    "colab": {
      "provenance": []
    },
    "kernelspec": {
      "name": "python3",
      "display_name": "Python 3"
    }
  },
  "cells": [
    {
      "cell_type": "code",
      "metadata": {
        "id": "maWS4-uE0Hm6",
        "outputId": "4c473193-363d-4f50-8692-821596e0b458",
        "colab": {
          "base_uri": "https://localhost:8080/"
        }
      },
      "source": [
        "import tensorflow as tf\n",
        "import numpy as np\n",
        "import matplotlib.pyplot as plt\n",
        "import keras                                     #for leaky_relu\n",
        "from sklearn.metrics import confusion_matrix\n",
        "\n",
        "# Loading mnist pre-shuffled train data and test data\n",
        "(x_train, y_train), (x_test, y_test) = tf.keras.datasets.mnist.load_data()\n",
        "print(\"x_train shape:\", x_train.shape, \"y_train shape:\", y_train.shape,\"x_test shape:\", x_test.shape, \"y_test shape:\", y_test.shape)"
      ],
      "execution_count": null,
      "outputs": [
        {
          "output_type": "stream",
          "name": "stdout",
          "text": [
            "x_train shape: (60000, 28, 28) y_train shape: (60000,) x_test shape: (10000, 28, 28) y_test shape: (10000,)\n"
          ]
        }
      ]
    },
    {
      "cell_type": "code",
      "metadata": {
        "id": "vxKLZSbE99DB"
      },
      "source": [
        "np.random.seed(0)"
      ],
      "execution_count": null,
      "outputs": []
    },
    {
      "cell_type": "code",
      "metadata": {
        "id": "pvjFq4RY0K4P",
        "outputId": "583e619b-226f-4c0d-b26b-b1d4f0c7fa4b",
        "colab": {
          "base_uri": "https://localhost:8080/",
          "height": 279
        }
      },
      "source": [
        "# displaying one of the images from the training dataset\n",
        "plt.xticks([])\n",
        "plt.yticks([])\n",
        "plt.xlabel([y_train[1]])\n",
        "plt.imshow(x_train[1],cmap=plt.cm.binary)"
      ],
      "execution_count": null,
      "outputs": [
        {
          "output_type": "execute_result",
          "data": {
            "text/plain": [
              "<matplotlib.image.AxesImage at 0x7f8904206410>"
            ]
          },
          "metadata": {},
          "execution_count": 22
        },
        {
          "output_type": "display_data",
          "data": {
            "text/plain": [
              "<Figure size 432x288 with 1 Axes>"
            ],
            "image/png": "[encoded data removed]"
          },
          "metadata": {}
        }
      ]
    },
    {
      "cell_type": "code",
      "metadata": {
        "id": "v9EoMjPQ0L6K"
      },
      "source": [
        "# splitting training and testing data\n",
        "x_train = x_train.astype('float32') / 255\n",
        "x_test = x_test.astype('float32') / 255\n"
      ],
      "execution_count": null,
      "outputs": []
    },
    {
      "cell_type": "code",
      "metadata": {
        "id": "unv7UkJu0L3y",
        "outputId": "3bb6844e-63c6-4f91-a0c5-0268368ea32e",
        "colab": {
          "base_uri": "https://localhost:8080/"
        }
      },
      "source": [
        "\n",
        "model = tf.keras.Sequential()\n",
        "# Dfine the input shape in the first layer of the neural network\n",
        "\n",
        "model.add(tf.keras.layers.Conv2D(filters=64, kernel_size=(2,2),strides=(1, 1), padding='same', activation='relu', input_shape=(28,28,1))) \n",
        "model.add(tf.keras.layers.MaxPooling2D(pool_size=(2,2)))\n",
        "model.add(tf.keras.layers.Dropout(0.3))\n",
        "model.add(tf.keras.layers.Conv2D(filters=32, kernel_size=(2,2),strides=(1, 1), padding='same', activation = keras.layers.LeakyReLU(alpha=0.01))) \n",
        "\n",
        "# leaky relu gave higher accuracy\n",
        "\n",
        "model.add(tf.keras.layers.MaxPooling2D(pool_size=(2,2)))\n",
        "model.add(tf.keras.layers.Dropout(0.3))\n",
        "model.add(tf.keras.layers.Flatten())\n",
        "model.add(tf.keras.layers.Dense(256, activation='relu'))\n",
        "model.add(tf.keras.layers.Dropout(0.5))\n",
        "model.add(tf.keras.layers.Dense(10, activation='softmax'))\n",
        "# softmax in output layer cause we have to categorize multiple classes of objects i.e. different digits\n",
        "\n",
        "\n",
        "model.summary()"
      ],
      "execution_count": null,
      "outputs": [
        {
          "output_type": "stream",
          "name": "stdout",
          "text": [
            "Model: \"sequential_3\"\n",
            "_________________________________________________________________\n",
            " Layer (type)                Output Shape              Param #   \n",
            "=================================================================\n",
            " conv2d_4 (Conv2D)           (None, 28, 28, 64)        320       \n",
            "                                                                 \n",
            " max_pooling2d_4 (MaxPooling  (None, 14, 14, 64)       0         \n",
            " 2D)                                                             \n",
            "                                                                 \n",
            " dropout_5 (Dropout)         (None, 14, 14, 64)        0         \n",
            "                                                                 \n",
            " conv2d_5 (Conv2D)           (None, 14, 14, 32)        8224      \n",
            "                                                                 \n",
            " max_pooling2d_5 (MaxPooling  (None, 7, 7, 32)         0         \n",
            " 2D)                                                             \n",
            "                                                                 \n",
            " dropout_6 (Dropout)         (None, 7, 7, 32)          0         \n",
            "                                                                 \n",
            " flatten_1 (Flatten)         (None, 1568)              0         \n",
            "                                                                 \n",
            " dense_2 (Dense)             (None, 256)               401664    \n",
            "                                                                 \n",
            " dropout_7 (Dropout)         (None, 256)               0         \n",
            "                                                                 \n",
            " dense_3 (Dense)             (None, 10)                2570      \n",
            "                                                                 \n",
            "=================================================================\n",
            "Total params: 412,778\n",
            "Trainable params: 412,778\n",
            "Non-trainable params: 0\n",
            "_________________________________________________________________\n"
          ]
        }
      ]
    },
    {
      "cell_type": "code",
      "metadata": {
        "id": "QumZFXdt0L0W"
      },
      "source": [
        "model.compile(loss='sparse_categorical_crossentropy', optimizer='adam', metrics=['accuracy'])\n",
        "# no clue what sparse categorical cross entropy is, should read\n"
      ],
      "execution_count": null,
      "outputs": []
    },
    {
      "cell_type": "code",
      "metadata": {
        "id": "7Z8MjqGp0LyP"
      },
      "source": [
        "#Reshape for CNN \n",
        "x_train = x_train.reshape(-1,28, 28,1)\n",
        "x_test = x_test.reshape(-1,28, 28, 1)"
      ],
      "execution_count": null,
      "outputs": []
    },
    {
      "cell_type": "code",
      "metadata": {
        "id": "aGK8t6V60LvF",
        "outputId": "d5218856-b772-4861-a613-37bce52d938c",
        "colab": {
          "base_uri": "https://localhost:8080/"
        }
      },
      "source": [
        "print(\"The wheels on the bus go round and round\")\n",
        "model_log=model.fit(x_train, y_train,\n",
        "          batch_size=60,\n",
        "          epochs=10,\n",
        "          verbose=1,\n",
        "          validation_split=.3)"
      ],
      "execution_count": null,
      "outputs": [
        {
          "output_type": "stream",
          "name": "stdout",
          "text": [
            "Epoch 1/10\n",
            "700/700 [==============================] - 78s 111ms/step - loss: 0.3890 - accuracy: 0.8752 - val_loss: 0.1165 - val_accuracy: 0.9649\n",
            "Epoch 2/10\n",
            "700/700 [==============================] - 73s 105ms/step - loss: 0.1564 - accuracy: 0.9513 - val_loss: 0.0744 - val_accuracy: 0.9773\n",
            "Epoch 3/10\n",
            "700/700 [==============================] - 69s 99ms/step - loss: 0.1175 - accuracy: 0.9635 - val_loss: 0.0647 - val_accuracy: 0.9801\n",
            "Epoch 4/10\n",
            "700/700 [==============================] - 79s 113ms/step - loss: 0.0968 - accuracy: 0.9700 - val_loss: 0.0614 - val_accuracy: 0.9803\n",
            "Epoch 5/10\n",
            "700/700 [==============================] - 75s 108ms/step - loss: 0.0809 - accuracy: 0.9743 - val_loss: 0.0512 - val_accuracy: 0.9841\n",
            "Epoch 6/10\n",
            "700/700 [==============================] - 64s 91ms/step - loss: 0.0745 - accuracy: 0.9763 - val_loss: 0.0461 - val_accuracy: 0.9856\n",
            "Epoch 7/10\n",
            "700/700 [==============================] - 61s 88ms/step - loss: 0.0681 - accuracy: 0.9781 - val_loss: 0.0454 - val_accuracy: 0.9867\n",
            "Epoch 8/10\n",
            "700/700 [==============================] - 62s 88ms/step - loss: 0.0615 - accuracy: 0.9797 - val_loss: 0.0425 - val_accuracy: 0.9870\n",
            "Epoch 9/10\n",
            "700/700 [==============================] - 60s 86ms/step - loss: 0.0588 - accuracy: 0.9817 - val_loss: 0.0451 - val_accuracy: 0.9867\n",
            "Epoch 10/10\n",
            "700/700 [==============================] - 61s 88ms/step - loss: 0.0560 - accuracy: 0.9820 - val_loss: 0.0392 - val_accuracy: 0.9879\n"
          ]
        }
      ]
    },
    {
      "cell_type": "code",
      "metadata": {
        "id": "x5qiQyRa0LOh",
        "colab": {
          "base_uri": "https://localhost:8080/"
        },
        "outputId": "227549d5-ecc5-4c62-d4e8-6c7a066d60d9"
      },
      "source": [
        "# Evaluate the model on test set\n",
        "score = model.evaluate(x_test, y_test, verbose=0)\n",
        "print('\\n', 'Test accuracy:', score[1])"
      ],
      "execution_count": null,
      "outputs": [
        {
          "output_type": "stream",
          "name": "stdout",
          "text": [
            "\n",
            " Test accuracy: 0.9897000193595886\n"
          ]
        }
      ]
    },
    {
      "cell_type": "code",
      "metadata": {
        "id": "GwzqpNyJ1_CU",
        "colab": {
          "base_uri": "https://localhost:8080/"
        },
        "outputId": "3665acc2-96d7-46ab-b4c5-4adf38afd33e"
      },
      "source": [
        "predictions = model.predict(x_test)\n",
        "predictions[0]"
      ],
      "execution_count": null,
      "outputs": [
        {
          "output_type": "stream",
          "name": "stdout",
          "text": [
            "313/313 [==============================] - 4s 11ms/step\n"
          ]
        },
        {
          "output_type": "execute_result",
          "data": {
            "text/plain": [
              "array([7.5953138e-10, 1.9183581e-07, 2.3682408e-06, 3.7265613e-06,\n",
              "       1.2492913e-11, 7.8171125e-10, 1.2232241e-16, 9.9999064e-01,\n",
              "       1.7543006e-09, 3.0288122e-06], dtype=float32)"
            ]
          },
          "metadata": {},
          "execution_count": 30
        }
      ]
    },
    {
      "cell_type": "code",
      "metadata": {
        "id": "DbFRUEnR1_WD",
        "colab": {
          "base_uri": "https://localhost:8080/"
        },
        "outputId": "4fde378c-bf2a-4610-97fe-d89b4feb3458"
      },
      "source": [
        "np.argmax(predictions[0])"
      ],
      "execution_count": null,
      "outputs": [
        {
          "output_type": "execute_result",
          "data": {
            "text/plain": [
              "7"
            ]
          },
          "metadata": {},
          "execution_count": 31
        }
      ]
    },
    {
      "cell_type": "code",
      "metadata": {
        "id": "b1ktP2L41-31",
        "colab": {
          "base_uri": "https://localhost:8080/"
        },
        "outputId": "1f4e2192-e422-4991-f1f6-5459625703bc"
      },
      "source": [
        "x_test = x_test.reshape(-1,28, 28)   # -1 in reshape implies we do not know the exact dimension of the array, numpy reshapes it according to the remaining parameters i.e 28,28\n",
        "x_test.shape"
      ],
      "execution_count": null,
      "outputs": [
        {
          "output_type": "execute_result",
          "data": {
            "text/plain": [
              "(10000, 28, 28)"
            ]
          },
          "metadata": {},
          "execution_count": 32
        }
      ]
    },
    {
      "cell_type": "code",
      "metadata": {
        "id": "hbHfl6oD2LyA",
        "colab": {
          "base_uri": "https://localhost:8080/",
          "height": 279
        },
        "outputId": "0080c940-6293-47e5-a481-e7d58a2d99ce"
      },
      "source": [
        "# Show one of the images from the test dataset\n",
        "plt.xticks([])\n",
        "plt.yticks([])\n",
        "plt.xlabel([y_train[0]])\n",
        "plt.imshow(x_test[0],cmap=plt.cm.binary)\n"
      ],
      "execution_count": null,
      "outputs": [
        {
          "output_type": "execute_result",
          "data": {
            "text/plain": [
              "<matplotlib.image.AxesImage at 0x7f89097108d0>"
            ]
          },
          "metadata": {},
          "execution_count": 33
        },
        {
          "output_type": "display_data",
          "data": {
            "text/plain": [
              "<Figure size 432x288 with 1 Axes>"
            ],
            "image/png": "[encoded data removed]"
          },
          "metadata": {}
        }
      ]
    },
    {
      "cell_type": "code",
      "metadata": {
        "id": "UxCg4uJhyNZd",
        "colab": {
          "base_uri": "https://localhost:8080/",
          "height": 297
        },
        "outputId": "10699e55-b768-49b4-f9a5-10a9e268a9cd"
      },
      "source": [
        "import os\n",
        "# plotting the metrics\n",
        "fig = plt.figure()\n",
        "plt.subplot(2,1,1)\n",
        "\n",
        "# for Keras 2.3.0 and upwards this\n",
        "plt.plot(model_log.history['accuracy'])\n",
        "plt.plot(model_log.history['val_accuracy'])\n",
        "\n",
        "plt.title('model accuracy')\n",
        "plt.ylabel('accuracy')\n",
        "plt.xlabel('epoch')\n",
        "plt.legend(['train', 'test'], loc='lower right')\n",
        "plt.subplot(2,1,2)\n",
        "plt.plot(model_log.history['loss'])\n",
        "plt.plot(model_log.history['val_loss'])\n",
        "plt.title('model loss')\n",
        "plt.ylabel('loss')\n",
        "plt.xlabel('epoch')\n",
        "plt.legend(['train', 'test'], loc='upper right')\n",
        "plt.tight_layout()\n",
        "\n"
      ],
      "execution_count": null,
      "outputs": [
        {
          "output_type": "display_data",
          "data": {
            "text/plain": [
              "<Figure size 432x288 with 2 Axes>"
            ],
            "image/png": "[encoded data removed]"
          },
          "metadata": {
            "needs_background": "light"
          }
        }
      ]
    },
    {
      "cell_type": "code",
      "metadata": {
        "id": "Ziz6v8C_2L3e"
      },
      "source": [
        "def plot_image(i, predictions_array, true_label, img):\n",
        "  predictions_array, true_label, img = predictions_array[i], true_label[i], img[i]\n",
        "  plt.grid(False)\n",
        "  plt.xticks([])\n",
        "  plt.yticks([])\n",
        "  \n",
        "  plt.imshow(img, cmap=plt.cm.binary)\n",
        "\n",
        "  predicted_label = np.argmax(predictions_array)\n",
        "  if predicted_label == true_label:\n",
        "    color = 'blue'\n",
        "  else:\n",
        "    color = 'red'\n",
        "  \n",
        "  plt.xlabel(\"{} {:2.0f}% ({})\".format([predicted_label],\n",
        "                                100*np.max(predictions_array),\n",
        "                                [true_label]),\n",
        "                                color=color)\n",
        "\n",
        "def plot_value_array(i, predictions_array, true_label):\n",
        "  predictions_array, true_label = predictions_array[i], true_label[i]\n",
        "  plt.grid(False)\n",
        "  plt.xticks([])\n",
        "  plt.yticks([])\n",
        "  thisplot = plt.bar(range(10), predictions_array, color=\"#777777\")\n",
        "  plt.ylim([0, 1]) \n",
        "  predicted_label = np.argmax(predictions_array)\n",
        " \n",
        "  thisplot[predicted_label].set_color('red')\n",
        "  thisplot[true_label].set_color('blue')"
      ],
      "execution_count": null,
      "outputs": []
    },
    {
      "cell_type": "code",
      "metadata": {
        "id": "-CXp1JAQ2n4F",
        "colab": {
          "base_uri": "https://localhost:8080/",
          "height": 589
        },
        "outputId": "a0053b5c-2ff9-4e2c-bc17-6b1a942e23ce"
      },
      "source": [
        "# Plot the first X test images, their predicted label, and the true label\n",
        "# Color correct predictions in blue, incorrect predictions in red\n",
        "num_rows = 5\n",
        "num_cols = 3\n",
        "num_images = num_rows*num_cols\n",
        "plt.figure(figsize=(2*2*num_cols, 2*num_rows))\n",
        "for i in range(num_images):\n",
        "  plt.subplot(num_rows, 2*num_cols, 2*i+1)\n",
        "  plot_image(i, predictions, y_test, x_test)\n",
        "  plt.subplot(num_rows, 2*num_cols, 2*i+2)\n",
        "  plot_value_array(i, predictions, y_test)\n",
        "plt.show()"
      ],
      "execution_count": null,
      "outputs": [
        {
          "output_type": "display_data",
          "data": {
            "text/plain": [
              "<Figure size 864x720 with 30 Axes>"
            ],
            "image/png": "[encoded data removed]"
          },
          "metadata": {}
        }
      ]
    },
    {
      "cell_type": "code",
      "source": [
        "conf = confusion_matrix(y_test, np.argmax(predictions,axis=1))\n",
        "conf"
      ],
      "metadata": {
        "colab": {
          "base_uri": "https://localhost:8080/"
        },
        "id": "GYc1XLbQBZV_",
        "outputId": "286a7933-3478-4ca3-d21d-c7a3183794b0"
      },
      "execution_count": null,
      "outputs": [
        {
          "output_type": "execute_result",
          "data": {
            "text/plain": [
              "array([[ 976,    0,    0,    0,    0,    0,    2,    1,    1,    0],\n",
              "       [   0, 1134,    1,    0,    0,    0,    0,    0,    0,    0],\n",
              "       [   1,    1, 1026,    0,    1,    0,    0,    3,    0,    0],\n",
              "       [   0,    0,    5, 1000,    0,    3,    0,    1,    1,    0],\n",
              "       [   0,    0,    0,    0,  974,    0,    1,    0,    0,    7],\n",
              "       [   1,    0,    1,    9,    0,  878,    2,    1,    0,    0],\n",
              "       [   4,    3,    0,    0,    1,    4,  944,    0,    2,    0],\n",
              "       [   0,    3,    7,    1,    0,    0,    0, 1013,    1,    3],\n",
              "       [   6,    0,    1,    1,    1,    0,    0,    1,  957,    7],\n",
              "       [   1,    2,    0,    4,    3,    2,    0,    1,    1,  995]])"
            ]
          },
          "metadata": {},
          "execution_count": 42
        }
      ]
    }
  ]
}